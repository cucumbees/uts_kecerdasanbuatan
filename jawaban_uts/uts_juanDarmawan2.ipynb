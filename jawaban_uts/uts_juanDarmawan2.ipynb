{
 "cells": [
  {
   "cell_type": "code",
   "execution_count": null,
   "id": "fbc6dd1b",
   "metadata": {},
   "outputs": [],
   "source": [
    "import numpy as np\n",
    "import matplotlib.pyplot as plt"
   ]
  },
  {
   "cell_type": "code",
   "execution_count": null,
   "id": "e4391fca",
   "metadata": {},
   "outputs": [],
   "source": [
    "perm_turun = lambda x: 1 if x <= 1000 else (3000 - x)/2000 if x <= 3000 else 0\n",
    "perm_naik  = lambda x: 0 if x <= 1000 else (x - 1000)/2000 if x <= 3000 else 1\n",
    "\n",
    "pers_sedikit = lambda x: 1 if x <= 200 else (400 - x)/200 if x <= 400 else 0\n",
    "pers_sedang  = lambda x: 0 if x <= 200 else (x - 200)/200 if x <= 400 else (800 - x)/400 if x <= 800 else 0\n",
    "pers_banyak  = lambda x: 0 if x <= 500 else (x - 500)/300 if x <= 800 else 1\n",
    "\n",
    "\n",
    "prod_berkurang = lambda x: 1 if x <= 2000 else (7000 - x)/5000 if x <= 7000 else 0\n",
    "prod_bertambah = lambda x: 0 if x <= 2000 else (x - 2000)/5000 if x <= 7000 else 1"
   ]
  },
  {
   "cell_type": "code",
   "execution_count": null,
   "id": "5055e89c",
   "metadata": {},
   "outputs": [],
   "source": [
    "x_perm = np.linspace(0, 5000, 100)\n",
    "x_pers = np.linspace(0, 1000, 100)\n",
    "x_prod = np.linspace(0, 8000, 100)\n",
    "\n",
    "plt.figure(figsize=(6,4))\n",
    "plt.plot(x_perm, [perm_turun(x) for x in x_perm], label='Turun')\n",
    "plt.plot(x_perm, [perm_naik(x) for x in x_perm], label='Naik')\n",
    "plt.title('Fungsi Permintaan')\n",
    "plt.xlabel('Permintaan')\n",
    "plt.ylabel('μ(x)')\n",
    "plt.legend()\n",
    "plt.grid(True)\n",
    "plt.show()"
   ]
  },
  {
   "cell_type": "code",
   "execution_count": null,
   "id": "268e25d6",
   "metadata": {},
   "outputs": [],
   "source": [
    "plt.figure(figsize=(6,4))\n",
    "plt.plot(x_pers, [pers_sedikit(x) for x in x_pers], label='Sedikit')\n",
    "plt.plot(x_pers, [pers_sedang(x) for x in x_pers], label='Sedang')\n",
    "plt.plot(x_pers, [pers_banyak(x) for x in x_pers], label='Banyak')\n",
    "plt.title('Fungsi Persediaan')\n",
    "plt.xlabel('Persediaan')\n",
    "plt.ylabel('μ(x)')\n",
    "plt.legend()\n",
    "plt.grid(True)\n",
    "plt.show()"
   ]
  },
  {
   "cell_type": "code",
   "execution_count": null,
   "id": "191890c8",
   "metadata": {},
   "outputs": [],
   "source": [
    "plt.figure(figsize=(6,4))\n",
    "plt.plot(x_prod, [prod_berkurang(x) for x in x_prod], label='Berkurang')\n",
    "plt.plot(x_prod, [prod_bertambah(x) for x in x_prod], label='Bertambah')\n",
    "plt.title('Fungsi Produksi')\n",
    "plt.xlabel('Produksi')\n",
    "plt.ylabel('μ(x)')\n",
    "plt.legend()\n",
    "plt.grid(True)\n",
    "plt.show()"
   ]
  },
  {
   "cell_type": "code",
   "execution_count": null,
   "id": "e8143f0e",
   "metadata": {},
   "outputs": [],
   "source": [
    "# Input nilai permintaan dan persediaan\n",
    "a = 3000  # permintaan\n",
    "b = 700   # persediaan"
   ]
  },
  {
   "cell_type": "code",
   "execution_count": null,
   "id": "71fd1f36",
   "metadata": {},
   "outputs": [],
   "source": [
    "mu_perm_turun   = perm_turun(a)\n",
    "mu_perm_naik    = perm_naik(a)\n",
    "mu_pers_sedikit = pers_sedikit(b)\n",
    "mu_pers_sedang  = pers_sedang(b)\n",
    "mu_pers_banyak  = pers_banyak(b)\n",
    "\n",
    "print(\"Hasil Fuzzifikasi:\")\n",
    "print(f\"μ_perm_turun   = {mu_perm_turun:.3f}\")\n",
    "print(f\"μ_perm_naik    = {mu_perm_naik:.3f}\")\n",
    "print(f\"μ_pers_sedikit = {mu_pers_sedikit:.3f}\")\n",
    "print(f\"μ_pers_sedang  = {mu_pers_sedang:.3f}\")\n",
    "print(f\"μ_pers_banyak  = {mu_pers_banyak:.3f}\")"
   ]
  },
  {
   "cell_type": "code",
   "execution_count": null,
   "id": "854175b5",
   "metadata": {},
   "outputs": [],
   "source": [
    "r1 = min(mu_perm_turun, mu_pers_banyak)   \n",
    "r2 = min(mu_perm_turun, mu_pers_sedang)   \n",
    "r3 = min(mu_perm_turun, mu_pers_sedikit)  \n",
    "r4 = min(mu_perm_naik,  mu_pers_banyak)   \n",
    "r5 = min(mu_perm_naik,  mu_pers_sedang)   \n",
    "r6 = min(mu_perm_naik,  mu_pers_sedikit)  \n",
    "\n",
    "print(\"Derajat Kekuatan Aturan:\")\n",
    "print(f\"R1 (Turun & Banyak → Berkurang)   = {r1:.3f}\")\n",
    "print(f\"R2 (Turun & Sedang → Berkurang)   = {r2:.3f}\")\n",
    "print(f\"R3 (Turun & Sedikit → Bertambah)  = {r3:.3f}\")\n",
    "print(f\"R4 (Naik & Banyak → Berkurang)    = {r4:.3f}\")\n",
    "print(f\"R5 (Naik & Sedang → Bertambah)    = {r5:.3f}\")"
   ]
  },
  {
   "cell_type": "code",
   "execution_count": null,
   "id": "fc9a5d82",
   "metadata": {},
   "outputs": [],
   "source": [
    "x = np.linspace(0, 8000, 16001)\n",
    "\n",
    "clip_berkurang = np.minimum([prod_berkurang(xx) for xx in x], max(r1, r2, r4))\n",
    "clip_bertambah = np.minimum([prod_bertambah(xx) for xx in x], max(r3, r5, r6))\n",
    "\n",
    "agg = np.maximum(clip_berkurang, clip_bertambah)"
   ]
  },
  {
   "cell_type": "code",
   "execution_count": null,
   "id": "8760e12c",
   "metadata": {},
   "outputs": [],
   "source": [
    "num = np.trapezoid(x * agg, x)\n",
    "den = np.trapezoid(agg, x)\n",
    "centroid = num / den\n",
    "\n",
    "print(f\"Hasil Defuzzifikasi = {centroid:.2f}\")\n",
    "print(f\"Produksi yang dihasilkan = {centroid:.0f} kemasan\")"
   ]
  },
  {
   "cell_type": "code",
   "execution_count": null,
   "id": "d6942267",
   "metadata": {},
   "outputs": [],
   "source": [
    "plt.figure(figsize=(8,4))\n",
    "plt.plot(x, [prod_berkurang(xx) for xx in x], label='Berkurang')\n",
    "plt.plot(x, [prod_bertambah(xx) for xx in x], label='Bertambah')\n",
    "plt.fill_between(x, agg, color='gray', alpha=0.4, label='Agregasi Fuzzy')\n",
    "plt.title('Hasil Agregasi dan Defuzzifikasi')\n",
    "plt.xlabel('Produksi')\n",
    "plt.ylabel('μ(x)')\n",
    "plt.legend()\n",
    "plt.grid(True)\n",
    "plt.show()"
   ]
  }
 ],
 "metadata": {
  "kernelspec": {
   "display_name": "venv",
   "language": "python",
   "name": "python3"
  },
  "language_info": {
   "codemirror_mode": {
    "name": "ipython",
    "version": 3
   },
   "file_extension": ".py",
   "mimetype": "text/x-python",
   "name": "python",
   "nbconvert_exporter": "python",
   "pygments_lexer": "ipython3",
   "version": "3.13.3"
  }
 },
 "nbformat": 4,
 "nbformat_minor": 5
}
