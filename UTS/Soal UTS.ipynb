{
 "cells": [
  {
   "cell_type": "markdown",
   "id": "a63917ef",
   "metadata": {},
   "source": [
    "## UTS Kecerdasan Buatan\n"
   ]
  },
  {
   "cell_type": "markdown",
   "id": "0ac216a5",
   "metadata": {},
   "source": [
    "### Soal:\n",
    "\n",
    "Suatu perusahaan makanan kaleng akan memproduksi makanan jenis ABC. Dari data 1 bulan terakhir, Memiliki grafik seperti berikut:"
   ]
  },
  {
   "cell_type": "markdown",
   "id": "b01053cf",
   "metadata": {},
   "source": [
    "<img src=\"images/permintaan.png\" />"
   ]
  },
  {
   "cell_type": "markdown",
   "id": "018d58fe",
   "metadata": {},
   "source": [
    "<img src=\"images/persediaan.png\" />"
   ]
  },
  {
   "cell_type": "markdown",
   "id": "a8958ea3",
   "metadata": {},
   "source": [
    "<img src=\"images/produksi.png\" />"
   ]
  },
  {
   "cell_type": "markdown",
   "id": "203fc6d3",
   "metadata": {},
   "source": [
    "Apabila proses produksi perusahaan tersebut menggunakan 6 aturan fuzzy sbb:\n",
    "1. IF Permintaan TURUN And Persediaan BANYAK THEN Produksi Barang BERKURANG;\n",
    "2. IF Permintaan TURUN And Persediaan SEDANG THEN Produksi Barang BERKURANG;\n",
    "3. IF Permintaan TURUN And Persediaan SEDIKIT THEN Produksi Barang BERTAMBAH;\n",
    "4. IF Permintaan NAIK And Persediaan BANYAK THEN Produksi Barang BERKURANG;\n",
    "5. IF Permintaan NAIK And Persediaan SEDANG THEN Produksi Barang BERTAMBAH;\n",
    "6. IF Permintaan NAIK And Persediaan SEDIKIT THEN Produksi Barang BETAMBAH;\n",
    "    "
   ]
  },
  {
   "cell_type": "markdown",
   "id": "628d3577",
   "metadata": {},
   "source": [
    " Berapa kemasan makanan jenis ABC yang harus diproduksi, jika jumlah permintaan sebanyak **<1000 -3000 >** kemasan, dan persediaan di gudang masih **<200 - 700>** kemasan?"
   ]
  },
  {
   "cell_type": "markdown",
   "id": "3a04b823",
   "metadata": {},
   "source": [
    "### Ketentuan\n",
    "1. Buat Code dan Perhitungan manual untuk menjawab soal diatas!\n",
    "2. Perhitungan manual dibuat dalam format pdf.\n",
    "3. Code program dibuat dengan menggunakan python.\n",
    "4. Perhitungan manual dan code program diupload ke dalam github repository (public) masing-masing.\n",
    "5. Link github dikumpulkan paling lambat ke e-learning pada saat UTS pukul 23:59, apabila e-learning error, jawaban dapat dikirim via email ke `dosen00287@unpam.ac.id`\n"
   ]
  }
 ],
 "metadata": {
  "kernelspec": {
   "display_name": "Python 3 (ipykernel)",
   "language": "python",
   "name": "python3"
  },
  "language_info": {
   "codemirror_mode": {
    "name": "ipython",
    "version": 3
   },
   "file_extension": ".py",
   "mimetype": "text/x-python",
   "name": "python",
   "nbconvert_exporter": "python",
   "pygments_lexer": "ipython3",
   "version": "3.11.7"
  }
 },
 "nbformat": 4,
 "nbformat_minor": 5
}
